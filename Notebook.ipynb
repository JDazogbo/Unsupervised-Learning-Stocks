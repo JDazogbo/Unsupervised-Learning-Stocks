{
 "cells": [
  {
   "cell_type": "markdown",
   "metadata": {},
   "source": [
    "# Stock Classifier Notebook"
   ]
  },
  {
   "cell_type": "code",
   "execution_count": 4,
   "metadata": {},
   "outputs": [],
   "source": [
    "import pandas as pd\n",
    "import numpy as np\n",
    "\n",
    "from DataFetcher import DataFetcher"
   ]
  },
  {
   "cell_type": "code",
   "execution_count": 5,
   "metadata": {},
   "outputs": [
    {
     "name": "stdout",
     "output_type": "stream",
     "text": [
      "    GrossProfit  NetIncomeLoss  OperatingExpenses Ticker\n",
      "0  2.177595e+09       73011000       2.212724e+09   CRWD\n",
      "1  9.331900e+10    48775000000       4.238100e+10   MSFT\n",
      "2           NaN   100118000000                NaN  GOOGL\n",
      "3  5.531000e+09    59248000000       2.032500e+10   AMZN\n"
     ]
    }
   ],
   "source": [
    "# ==================== Example Usage ==================== #\n",
    "fetcher = DataFetcher()\n",
    "\n",
    "# Step 1: Select Tickers\n",
    "fetcher.set_tickers(\"CRWD\", \"MSFT\", \"GOOGL\", \"AMZN\")\n",
    "\n",
    "# Step 2: Select Metrics (Pass True for ones you want)\n",
    "fetcher.set_metrics(\n",
    "    GrossProfit=True,\n",
    "    NetIncomeLoss=True,\n",
    "    OperatingExpenses=True,\n",
    ")\n",
    "\n",
    "# Step 3: Fetch Data\n",
    "df = fetcher.fetch_data()\n",
    "\n",
    "# Display the DataFrame\n",
    "print(df.head())"
   ]
  }
 ],
 "metadata": {
  "kernelspec": {
   "display_name": "DataScience",
   "language": "python",
   "name": "python3"
  },
  "language_info": {
   "codemirror_mode": {
    "name": "ipython",
    "version": 3
   },
   "file_extension": ".py",
   "mimetype": "text/x-python",
   "name": "python",
   "nbconvert_exporter": "python",
   "pygments_lexer": "ipython3",
   "version": "3.8.20"
  }
 },
 "nbformat": 4,
 "nbformat_minor": 2
}
